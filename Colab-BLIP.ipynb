{
  "nbformat": 4,
  "nbformat_minor": 0,
  "metadata": {
    "colab": {
      "name": "Colab-BLIP.ipynb",
      "private_outputs": true,
      "provenance": [],
      "collapsed_sections": []
    },
    "kernelspec": {
      "name": "python3",
      "display_name": "Python 3"
    },
    "language_info": {
      "name": "python"
    }
  },
  "cells": [
    {
      "cell_type": "markdown",
      "source": [
        "# Colab-BLIP\n",
        "\n",
        "Original repo: [salesforce/BLIP](https://github.com/salesforce/BLIP)\n",
        "\n",
        "Official Colab: [here](https://colab.research.google.com/github/salesforce/BLIP/blob/main/demo.ipynb)\n",
        "\n",
        "My fork: [styler00dollar/Colab-BLIP](https://github.com/styler00dollar/Colab-BLIP)\n",
        "\n",
        "A small colab which does use the large models instead of the base models."
      ],
      "metadata": {
        "id": "PLoA0YTUaDj1"
      }
    },
    {
      "cell_type": "code",
      "source": [
        "!nvidia-smi"
      ],
      "metadata": {
        "id": "IT2KQb0kaCV4"
      },
      "execution_count": null,
      "outputs": []
    },
    {
      "cell_type": "code",
      "execution_count": null,
      "metadata": {
        "cellView": "form",
        "id": "WQ133FpqZ1WP"
      },
      "outputs": [],
      "source": [
        "#@title install\n",
        "%cd /content/\n",
        "!pip3 install transformers==4.15.0 timm==0.4.12 fairscale==0.4.4 wget\n",
        "!git clone https://github.com/salesforce/BLIP\n",
        "%cd BLIP"
      ]
    },
    {
      "cell_type": "code",
      "source": [
        "!pip install wget"
      ],
      "metadata": {
        "id": "_34sRozakmSZ"
      },
      "execution_count": null,
      "outputs": []
    },
    {
      "cell_type": "markdown",
      "source": [
        "# IMG2TXT"
      ],
      "metadata": {
        "id": "qOy1Lbf8f2yG"
      }
    },
    {
      "cell_type": "code",
      "source": [
        "#@title load model `BLIP w/ ViT-L 129M` (image -> text)\n",
        "%cd /content/BLIP\n",
        "from models.blip import BLIP_Decoder, load_checkpoint\n",
        "from PIL import Image\n",
        "import requests\n",
        "import torch\n",
        "from torchvision import transforms\n",
        "from torchvision.transforms.functional import InterpolationMode\n",
        "import os \n",
        "import wget \n",
        "\n",
        "device = torch.device('cuda' if torch.cuda.is_available() else 'cpu')\n",
        "\n",
        "image_size = 384\n",
        "transform = transforms.Compose([\n",
        "    transforms.Resize((image_size,image_size),interpolation=InterpolationMode.BICUBIC),\n",
        "    transforms.ToTensor(),\n",
        "    transforms.Normalize((0.48145466, 0.4578275, 0.40821073), (0.26862954, 0.26130258, 0.27577711))\n",
        "    ]) \n",
        "\n",
        "model_path = '/content/BLIP/model_large.pth'\n",
        "if not os.path.isfile(model_path):\n",
        "  wget.download(\"https://storage.googleapis.com/sfr-vision-language-research/BLIP/models/model_large.pth\")\n",
        "    \n",
        "model = BLIP_Decoder(image_size=384, vit='large')\n",
        "model, _ = load_checkpoint(model, model_path)\n",
        "model.eval()\n",
        "model = model.to(device)"
      ],
      "metadata": {
        "cellView": "form",
        "id": "7PxYRL6BdD_o"
      },
      "execution_count": null,
      "outputs": []
    },
    {
      "cell_type": "code",
      "source": [
        "#@title load model `Image Captioning (COCO) BLIP w/ ViT-L` (image -> text)\n",
        "%cd /content/BLIP\n",
        "from models.blip import BLIP_Decoder, load_checkpoint\n",
        "from PIL import Image\n",
        "import requests\n",
        "import torch\n",
        "from torchvision import transforms\n",
        "from torchvision.transforms.functional import InterpolationMode\n",
        "import wget\n",
        "import os\n",
        "\n",
        "device = torch.device('cuda' if torch.cuda.is_available() else 'cpu')\n",
        "\n",
        "image_size = 384\n",
        "transform = transforms.Compose([\n",
        "    transforms.Resize((image_size,image_size),interpolation=InterpolationMode.BICUBIC),\n",
        "    transforms.ToTensor(),\n",
        "    transforms.Normalize((0.48145466, 0.4578275, 0.40821073), (0.26862954, 0.26130258, 0.27577711))\n",
        "    ]) \n",
        "\n",
        "model_path = '/content/BLIP/model_large_caption.pth'\n",
        "if not os.path.isfile(model_path):\n",
        "  wget.download(\"https://storage.googleapis.com/sfr-vision-language-research/BLIP/models/model_large_caption.pth\")\n",
        "\n",
        "model = BLIP_Decoder(image_size=384, vit='large')\n",
        "model, _ = load_checkpoint(model, model_path)\n",
        "model.eval()\n",
        "model = model.to(device)"
      ],
      "metadata": {
        "cellView": "form",
        "id": "JQQtznbhjPK_"
      },
      "execution_count": null,
      "outputs": []
    },
    {
      "cell_type": "code",
      "source": [
        "#@title inference (image -> text)\n",
        "%cd /content/BLIP\n",
        "\n",
        "img_url = \"URL\" #@param {type:\"string\"}\n",
        "raw_image = Image.open(requests.get(img_url, stream=True).raw).convert('RGB')   \n",
        "\n",
        "w,h = raw_image.size\n",
        "display(raw_image.resize((w//5,h//5)))\n",
        "\n",
        "image = transform(raw_image).unsqueeze(0).to(device)   \n",
        "\n",
        "with torch.no_grad():\n",
        "    caption = model.generate(image, sample=False, num_beams=3, max_length=20, min_length=5)\n",
        "    print('caption: '+caption[0])"
      ],
      "metadata": {
        "cellView": "form",
        "id": "7YVFW2u2Z5xJ"
      },
      "execution_count": null,
      "outputs": []
    },
    {
      "cell_type": "markdown",
      "source": [
        "# VQA"
      ],
      "metadata": {
        "id": "BGnWQBY4f1Pu"
      }
    },
    {
      "cell_type": "code",
      "source": [
        "#@title load model `BLIP w/ ViT-B and CapFilt-L VQA` (answering question)\n",
        "%cd /content/BLIP\n",
        "from models.blip_vqa import BLIP_VQA, load_checkpoint\n",
        "from PIL import Image\n",
        "import requests\n",
        "import torch\n",
        "from torchvision import transforms\n",
        "from torchvision.transforms.functional import InterpolationMode\n",
        "\n",
        "device = torch.device('cuda' if torch.cuda.is_available() else 'cpu')\n",
        "\n",
        "image_size = 480\n",
        "transform = transforms.Compose([\n",
        "    transforms.Resize((image_size,image_size),interpolation=InterpolationMode.BICUBIC),\n",
        "    transforms.ToTensor(),\n",
        "    transforms.Normalize((0.48145466, 0.4578275, 0.40821073), (0.26862954, 0.26130258, 0.27577711))\n",
        "    ]) \n",
        "\n",
        "!wget https://storage.googleapis.com/sfr-vision-language-research/BLIP/models/model*_vqa.pth\n",
        "model_path = \"/content/BLIP/model*_vqa.pth\"\n",
        "\n",
        "model = BLIP_VQA(image_size=480, vit='large')\n",
        "model, _ = load_checkpoint(model, model_path)\n",
        "model.eval()\n",
        "model = model.to(device)\n"
      ],
      "metadata": {
        "cellView": "form",
        "id": "gEPkOMf0bHgW"
      },
      "execution_count": null,
      "outputs": []
    },
    {
      "cell_type": "code",
      "source": [
        "#@title load model `BLIP w/ ViT-B VQA` (answering question)\n",
        "%cd /content/BLIP\n",
        "from models.blip_vqa import BLIP_VQA, load_checkpoint\n",
        "from PIL import Image\n",
        "import requests\n",
        "import torch\n",
        "from torchvision import transforms\n",
        "from torchvision.transforms.functional import InterpolationMode\n",
        "\n",
        "device = torch.device('cuda' if torch.cuda.is_available() else 'cpu')\n",
        "\n",
        "image_size = 480\n",
        "transform = transforms.Compose([\n",
        "    transforms.Resize((image_size,image_size),interpolation=InterpolationMode.BICUBIC),\n",
        "    transforms.ToTensor(),\n",
        "    transforms.Normalize((0.48145466, 0.4578275, 0.40821073), (0.26862954, 0.26130258, 0.27577711))\n",
        "    ]) \n",
        "\n",
        "!wget https://storage.googleapis.com/sfr-vision-language-research/BLIP/models/model_vqa.pth\n",
        "model_path = \"/content/BLIP/model_vqa.pth\"\n",
        "\n",
        "model = BLIP_VQA(image_size=480, vit='large')\n",
        "model, _ = load_checkpoint(model, model_path)\n",
        "model.eval()\n",
        "model = model.to(device)\n"
      ],
      "metadata": {
        "cellView": "form",
        "id": "nwBXa8sZhmf8"
      },
      "execution_count": null,
      "outputs": []
    },
    {
      "cell_type": "code",
      "source": [
        "#@title inference VQA\n",
        "img_url =  \"URL\"#@param {type:\"string\"}\n",
        "raw_image = Image.open(requests.get(img_url, stream=True).raw).convert('RGB')   \n",
        "\n",
        "w,h = raw_image.size\n",
        "display(raw_image.resize((w//5,h//5)))\n",
        "\n",
        "image = transform(raw_image).unsqueeze(0).to(device)   \n",
        "\n",
        "question = 'is she happy?' #@param {type:\"string\"}\n",
        "\n",
        "with torch.no_grad():\n",
        "    answer = model(image, question, train=False, inference='generate') \n",
        "    print('answer: '+answer[0])"
      ],
      "metadata": {
        "cellView": "form",
        "id": "c0szT5ryfM2r"
      },
      "execution_count": null,
      "outputs": []
    }
  ]
}